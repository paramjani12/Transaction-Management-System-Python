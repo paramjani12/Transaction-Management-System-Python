{
 "cells": [
  {
   "cell_type": "code",
   "execution_count": 1,
   "metadata": {},
   "outputs": [
    {
     "name": "stdout",
     "output_type": "stream",
     "text": [
      "Welcome\n",
      "Enter your name : Param Jani\n",
      "Hello Mr./Mrs. Param Jani\n",
      "Enter your User ID : 19DCS042\n",
      "Our system follows the steps as shown below\n",
      "1 : Deposit\n",
      "2 : Withdraw\n",
      "3 : Check your Balance\n",
      "4 : Exit The System\n",
      "-x-x-x-x-x-x-x-x-x-x-x-x-x-x-x-x-x-x-x-x-x-x-x-x-x-x-x-x-x-x-x-x-x-x-x-x-x-x-x-x-x-\n",
      "Enter amount to be Deposited: 3200\n",
      "     Amount Deposited : 3200.0\n",
      "-x-x-x-x-x-x-x-x-x-x-x-x-x-x-x-x-x-x-x-x-x-x-x-x-x-x-x-x-x-x-x-x-x-x-x-x-x-x-x-x-x-\n",
      "Enter amount to be Withdrawn: 1250\n",
      "     You Withdraw : 1250.0\n",
      "-x-x-x-x-x-x-x-x-x-x-x-x-x-x-x-x-x-x-x-x-x-x-x-x-x-x-x-x-x-x-x-x-x-x-x-x-x-x-x-x-x-\n",
      "Net Available Balance= 51950.0\n",
      "-x-x-x-x-x-x-x-x-x-x-x-x-x-x-x-x-x-x-x-x-x-x-x-x-x-x-x-x-x-x-x-x-x-x-x-x-x-x-x-x-x-\n",
      "Thank you for using our system. Wish you a good day!!!!\n"
     ]
    }
   ],
   "source": [
    "class Bank_Account:\n",
    "    def home(self):\n",
    "        self.balance=50000\n",
    "        print(\"Welcome\")\n",
    "        name= input(\"Enter your name : \")\n",
    "        print(\"Hello Mr./Mrs.\",name)\n",
    "        userid=input(\"Enter your User ID : \")\n",
    "        print(\"Our system follows the steps as shown below\")\n",
    "        print(\"1 : Deposit\")\n",
    "        print(\"2 : Withdraw\")\n",
    "        print(\"3 : Check your Balance\")\n",
    "        print(\"4 : Exit The System\")\n",
    "        print(\"-x-x-x-x-x-x-x-x-x-x-x-x-x-x-x-x-x-x-x-x-x-x-x-x-x-x-x-x-x-x-x-x-x-x-x-x-x-x-x-x-x-\")\n",
    "            \n",
    "    def deposit(self):\n",
    "        amount=float(input(\"Enter amount to be Deposited: \"))\n",
    "        self.balance += amount\n",
    "        print(\"     Amount Deposited :\",amount)\n",
    "        print(\"-x-x-x-x-x-x-x-x-x-x-x-x-x-x-x-x-x-x-x-x-x-x-x-x-x-x-x-x-x-x-x-x-x-x-x-x-x-x-x-x-x-\")\n",
    "\n",
    "  \n",
    "    def withdraw(self):\n",
    "        amount = float(input(\"Enter amount to be Withdrawn: \"))\n",
    "        if self.balance>=amount:\n",
    "            self.balance-=amount\n",
    "            print(\"     You Withdraw :\",amount)\n",
    "        else:\n",
    "            print(\"     Insufficient balance  \")\n",
    "        print(\"-x-x-x-x-x-x-x-x-x-x-x-x-x-x-x-x-x-x-x-x-x-x-x-x-x-x-x-x-x-x-x-x-x-x-x-x-x-x-x-x-x-\")\n",
    "      \n",
    "  \n",
    "    def display(self):\n",
    "        print(\"Net Available Balance=\",self.balance)\n",
    "        print(\"-x-x-x-x-x-x-x-x-x-x-x-x-x-x-x-x-x-x-x-x-x-x-x-x-x-x-x-x-x-x-x-x-x-x-x-x-x-x-x-x-x-\")\n",
    "\n",
    "# Driver code\n",
    "   \n",
    "b = Bank_Account()\n",
    "b.home()\n",
    "b.deposit()\n",
    "b.withdraw()\n",
    "b.display()\n",
    "print(\"Thank you for using our system. Wish you a good day!!!!\")\n"
   ]
  },
  {
   "cell_type": "code",
   "execution_count": null,
   "metadata": {},
   "outputs": [],
   "source": []
  }
 ],
 "metadata": {
  "kernelspec": {
   "display_name": "Python 3",
   "language": "python",
   "name": "python3"
  },
  "language_info": {
   "codemirror_mode": {
    "name": "ipython",
    "version": 3
   },
   "file_extension": ".py",
   "mimetype": "text/x-python",
   "name": "python",
   "nbconvert_exporter": "python",
   "pygments_lexer": "ipython3",
   "version": "3.8.5"
  }
 },
 "nbformat": 4,
 "nbformat_minor": 4
}
